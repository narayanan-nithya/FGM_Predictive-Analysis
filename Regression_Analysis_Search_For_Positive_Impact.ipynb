{
 "cells": [
  {
   "cell_type": "code",
   "execution_count": 1,
   "metadata": {},
   "outputs": [],
   "source": [
    " %matplotlib inline\n",
    "import matplotlib.pyplot as plt\n",
    "import pandas as pd"
   ]
  },
  {
   "cell_type": "code",
   "execution_count": 2,
   "metadata": {},
   "outputs": [
    {
     "data": {
      "text/html": [
       "<div>\n",
       "<style scoped>\n",
       "    .dataframe tbody tr th:only-of-type {\n",
       "        vertical-align: middle;\n",
       "    }\n",
       "\n",
       "    .dataframe tbody tr th {\n",
       "        vertical-align: top;\n",
       "    }\n",
       "\n",
       "    .dataframe thead th {\n",
       "        text-align: right;\n",
       "    }\n",
       "</style>\n",
       "<table border=\"1\" class=\"dataframe\">\n",
       "  <thead>\n",
       "    <tr style=\"text-align: right;\">\n",
       "      <th></th>\n",
       "      <th>Country</th>\n",
       "      <th>Prevarence_G_W</th>\n",
       "      <th>Prevarence_G</th>\n",
       "      <th>Urban_G_W</th>\n",
       "      <th>Rural_G_W</th>\n",
       "      <th>Urban_G</th>\n",
       "      <th>Rural_G</th>\n",
       "      <th>Low_Income_G_W</th>\n",
       "      <th>Second_Low_Income_G_W</th>\n",
       "      <th>Middle_income_G_W</th>\n",
       "      <th>...</th>\n",
       "      <th>With_Bank_Account_Female</th>\n",
       "      <th>With_Bank_Account_Male</th>\n",
       "      <th>Upper2ndary_Educ_Female</th>\n",
       "      <th>Upper2ndary_Educ_Male</th>\n",
       "      <th>With_Job_Female_Tot</th>\n",
       "      <th>With_Job_Male_Tot</th>\n",
       "      <th>With_Job_Female_Rural</th>\n",
       "      <th>With_Job_Male_Rural</th>\n",
       "      <th>With_Job_Female_Urban</th>\n",
       "      <th>With_Job_Male_Urban</th>\n",
       "    </tr>\n",
       "  </thead>\n",
       "  <tbody>\n",
       "    <tr>\n",
       "      <th>0</th>\n",
       "      <td>Benin</td>\n",
       "      <td>9.2</td>\n",
       "      <td>0.1</td>\n",
       "      <td>5.2</td>\n",
       "      <td>13.48</td>\n",
       "      <td>0.1</td>\n",
       "      <td>0.1</td>\n",
       "      <td>16.2</td>\n",
       "      <td>13.5</td>\n",
       "      <td>10.3</td>\n",
       "      <td>...</td>\n",
       "      <td>28.59</td>\n",
       "      <td>48.62</td>\n",
       "      <td>13.00000</td>\n",
       "      <td>25.00000</td>\n",
       "      <td>69.6992</td>\n",
       "      <td>74.3758</td>\n",
       "      <td>73.2847</td>\n",
       "      <td>77.9530</td>\n",
       "      <td>65.2832</td>\n",
       "      <td>70.0858</td>\n",
       "    </tr>\n",
       "    <tr>\n",
       "      <th>1</th>\n",
       "      <td>Burkina_Faso</td>\n",
       "      <td>75.8</td>\n",
       "      <td>13.3</td>\n",
       "      <td>68.7</td>\n",
       "      <td>78.40</td>\n",
       "      <td>6.9</td>\n",
       "      <td>14.7</td>\n",
       "      <td>77.3</td>\n",
       "      <td>78.1</td>\n",
       "      <td>77.8</td>\n",
       "      <td>...</td>\n",
       "      <td>34.50</td>\n",
       "      <td>51.28</td>\n",
       "      <td>1.57192</td>\n",
       "      <td>4.29634</td>\n",
       "      <td>58.2901</td>\n",
       "      <td>74.6037</td>\n",
       "      <td>59.2940</td>\n",
       "      <td>76.6422</td>\n",
       "      <td>55.1430</td>\n",
       "      <td>69.1376</td>\n",
       "    </tr>\n",
       "    <tr>\n",
       "      <th>2</th>\n",
       "      <td>Cameroon</td>\n",
       "      <td>1.4</td>\n",
       "      <td>NaN</td>\n",
       "      <td>0.9</td>\n",
       "      <td>2.10</td>\n",
       "      <td>NaN</td>\n",
       "      <td>NaN</td>\n",
       "      <td>1.3</td>\n",
       "      <td>4.0</td>\n",
       "      <td>1.0</td>\n",
       "      <td>...</td>\n",
       "      <td>30.03</td>\n",
       "      <td>39.24</td>\n",
       "      <td>11.47701</td>\n",
       "      <td>25.39947</td>\n",
       "      <td>67.1926</td>\n",
       "      <td>77.5023</td>\n",
       "      <td>73.8870</td>\n",
       "      <td>80.0758</td>\n",
       "      <td>58.3866</td>\n",
       "      <td>74.4408</td>\n",
       "    </tr>\n",
       "    <tr>\n",
       "      <th>3</th>\n",
       "      <td>Central African Republic</td>\n",
       "      <td>24.2</td>\n",
       "      <td>NaN</td>\n",
       "      <td>18.1</td>\n",
       "      <td>28.70</td>\n",
       "      <td>NaN</td>\n",
       "      <td>NaN</td>\n",
       "      <td>33.6</td>\n",
       "      <td>31.2</td>\n",
       "      <td>26.0</td>\n",
       "      <td>...</td>\n",
       "      <td>NaN</td>\n",
       "      <td>NaN</td>\n",
       "      <td>8.00000</td>\n",
       "      <td>16.00000</td>\n",
       "      <td>NaN</td>\n",
       "      <td>NaN</td>\n",
       "      <td>NaN</td>\n",
       "      <td>NaN</td>\n",
       "      <td>NaN</td>\n",
       "      <td>NaN</td>\n",
       "    </tr>\n",
       "    <tr>\n",
       "      <th>4</th>\n",
       "      <td>Chad</td>\n",
       "      <td>38.4</td>\n",
       "      <td>9.9</td>\n",
       "      <td>40.1</td>\n",
       "      <td>37.90</td>\n",
       "      <td>8.8</td>\n",
       "      <td>10.1</td>\n",
       "      <td>46.1</td>\n",
       "      <td>42.0</td>\n",
       "      <td>37.0</td>\n",
       "      <td>...</td>\n",
       "      <td>14.85</td>\n",
       "      <td>29.03</td>\n",
       "      <td>10.00000</td>\n",
       "      <td>18.00000</td>\n",
       "      <td>NaN</td>\n",
       "      <td>NaN</td>\n",
       "      <td>NaN</td>\n",
       "      <td>NaN</td>\n",
       "      <td>NaN</td>\n",
       "      <td>NaN</td>\n",
       "    </tr>\n",
       "  </tbody>\n",
       "</table>\n",
       "<p>5 rows × 33 columns</p>\n",
       "</div>"
      ],
      "text/plain": [
       "                    Country  Prevarence_G_W  Prevarence_G  Urban_G_W  \\\n",
       "0                     Benin             9.2           0.1        5.2   \n",
       "1              Burkina_Faso            75.8          13.3       68.7   \n",
       "2                  Cameroon             1.4           NaN        0.9   \n",
       "3  Central African Republic            24.2           NaN       18.1   \n",
       "4                      Chad            38.4           9.9       40.1   \n",
       "\n",
       "   Rural_G_W  Urban_G  Rural_G  Low_Income_G_W  Second_Low_Income_G_W  \\\n",
       "0      13.48      0.1      0.1            16.2                   13.5   \n",
       "1      78.40      6.9     14.7            77.3                   78.1   \n",
       "2       2.10      NaN      NaN             1.3                    4.0   \n",
       "3      28.70      NaN      NaN            33.6                   31.2   \n",
       "4      37.90      8.8     10.1            46.1                   42.0   \n",
       "\n",
       "   Middle_income_G_W  ...  With_Bank_Account_Female  With_Bank_Account_Male   \\\n",
       "0               10.3  ...                     28.59                    48.62   \n",
       "1               77.8  ...                     34.50                    51.28   \n",
       "2                1.0  ...                     30.03                    39.24   \n",
       "3               26.0  ...                       NaN                      NaN   \n",
       "4               37.0  ...                     14.85                    29.03   \n",
       "\n",
       "   Upper2ndary_Educ_Female  Upper2ndary_Educ_Male  With_Job_Female_Tot  \\\n",
       "0                 13.00000               25.00000              69.6992   \n",
       "1                  1.57192                4.29634              58.2901   \n",
       "2                 11.47701               25.39947              67.1926   \n",
       "3                  8.00000               16.00000                  NaN   \n",
       "4                 10.00000               18.00000                  NaN   \n",
       "\n",
       "   With_Job_Male_Tot  With_Job_Female_Rural With_Job_Male_Rural  \\\n",
       "0            74.3758                73.2847             77.9530   \n",
       "1            74.6037                59.2940             76.6422   \n",
       "2            77.5023                73.8870             80.0758   \n",
       "3                NaN                    NaN                 NaN   \n",
       "4                NaN                    NaN                 NaN   \n",
       "\n",
       "  With_Job_Female_Urban  With_Job_Male_Urban  \n",
       "0               65.2832              70.0858  \n",
       "1               55.1430              69.1376  \n",
       "2               58.3866              74.4408  \n",
       "3                   NaN                  NaN  \n",
       "4                   NaN                  NaN  \n",
       "\n",
       "[5 rows x 33 columns]"
      ]
     },
     "execution_count": 2,
     "metadata": {},
     "output_type": "execute_result"
    }
   ],
   "source": [
    "df = pd.read_csv(\"FGM_All.csv\")\n",
    "# Drop the null columns where all values are null\n",
    "df = df.dropna(axis='columns', how='all')\n",
    "df.head()"
   ]
  },
  {
   "cell_type": "code",
   "execution_count": 3,
   "metadata": {},
   "outputs": [
    {
     "data": {
      "text/html": [
       "<div>\n",
       "<style scoped>\n",
       "    .dataframe tbody tr th:only-of-type {\n",
       "        vertical-align: middle;\n",
       "    }\n",
       "\n",
       "    .dataframe tbody tr th {\n",
       "        vertical-align: top;\n",
       "    }\n",
       "\n",
       "    .dataframe thead th {\n",
       "        text-align: right;\n",
       "    }\n",
       "</style>\n",
       "<table border=\"1\" class=\"dataframe\">\n",
       "  <thead>\n",
       "    <tr style=\"text-align: right;\">\n",
       "      <th></th>\n",
       "      <th>Prevarence_G_W</th>\n",
       "      <th>Urban_G_W</th>\n",
       "      <th>Rural_G_W</th>\n",
       "      <th>Low_Income_G_W</th>\n",
       "      <th>Middle_income_G_W</th>\n",
       "      <th>High_Income_G_W</th>\n",
       "      <th>Oppose_Cont_G_W</th>\n",
       "      <th>Oppose_Cont_B_M</th>\n",
       "      <th>Upper2ndary_Educ_Female</th>\n",
       "      <th>Upper2ndary_Educ_Male</th>\n",
       "    </tr>\n",
       "  </thead>\n",
       "  <tbody>\n",
       "    <tr>\n",
       "      <th>0</th>\n",
       "      <td>9.2</td>\n",
       "      <td>5.2</td>\n",
       "      <td>13.48</td>\n",
       "      <td>16.2</td>\n",
       "      <td>10.3</td>\n",
       "      <td>2.30</td>\n",
       "      <td>86.3</td>\n",
       "      <td>88.8</td>\n",
       "      <td>13.00000</td>\n",
       "      <td>25.00000</td>\n",
       "    </tr>\n",
       "    <tr>\n",
       "      <th>1</th>\n",
       "      <td>75.8</td>\n",
       "      <td>68.7</td>\n",
       "      <td>78.40</td>\n",
       "      <td>77.3</td>\n",
       "      <td>77.8</td>\n",
       "      <td>68.46</td>\n",
       "      <td>NaN</td>\n",
       "      <td>NaN</td>\n",
       "      <td>1.57192</td>\n",
       "      <td>4.29634</td>\n",
       "    </tr>\n",
       "    <tr>\n",
       "      <th>2</th>\n",
       "      <td>1.4</td>\n",
       "      <td>0.9</td>\n",
       "      <td>2.10</td>\n",
       "      <td>1.3</td>\n",
       "      <td>1.0</td>\n",
       "      <td>0.70</td>\n",
       "      <td>84.1</td>\n",
       "      <td>84.6</td>\n",
       "      <td>11.47701</td>\n",
       "      <td>25.39947</td>\n",
       "    </tr>\n",
       "    <tr>\n",
       "      <th>3</th>\n",
       "      <td>24.2</td>\n",
       "      <td>18.1</td>\n",
       "      <td>28.70</td>\n",
       "      <td>33.6</td>\n",
       "      <td>26.0</td>\n",
       "      <td>14.90</td>\n",
       "      <td>NaN</td>\n",
       "      <td>NaN</td>\n",
       "      <td>8.00000</td>\n",
       "      <td>16.00000</td>\n",
       "    </tr>\n",
       "    <tr>\n",
       "      <th>4</th>\n",
       "      <td>38.4</td>\n",
       "      <td>40.1</td>\n",
       "      <td>37.90</td>\n",
       "      <td>46.1</td>\n",
       "      <td>37.0</td>\n",
       "      <td>37.30</td>\n",
       "      <td>45.1</td>\n",
       "      <td>48.6</td>\n",
       "      <td>10.00000</td>\n",
       "      <td>18.00000</td>\n",
       "    </tr>\n",
       "  </tbody>\n",
       "</table>\n",
       "</div>"
      ],
      "text/plain": [
       "   Prevarence_G_W  Urban_G_W  Rural_G_W  Low_Income_G_W  Middle_income_G_W  \\\n",
       "0             9.2        5.2      13.48            16.2               10.3   \n",
       "1            75.8       68.7      78.40            77.3               77.8   \n",
       "2             1.4        0.9       2.10             1.3                1.0   \n",
       "3            24.2       18.1      28.70            33.6               26.0   \n",
       "4            38.4       40.1      37.90            46.1               37.0   \n",
       "\n",
       "   High_Income_G_W  Oppose_Cont_G_W  Oppose_Cont_B_M  Upper2ndary_Educ_Female  \\\n",
       "0             2.30             86.3             88.8                 13.00000   \n",
       "1            68.46              NaN              NaN                  1.57192   \n",
       "2             0.70             84.1             84.6                 11.47701   \n",
       "3            14.90              NaN              NaN                  8.00000   \n",
       "4            37.30             45.1             48.6                 10.00000   \n",
       "\n",
       "   Upper2ndary_Educ_Male  \n",
       "0               25.00000  \n",
       "1                4.29634  \n",
       "2               25.39947  \n",
       "3               16.00000  \n",
       "4               18.00000  "
      ]
     },
     "execution_count": 3,
     "metadata": {},
     "output_type": "execute_result"
    }
   ],
   "source": [
    "# Set features. This will also be used as your x values.\n",
    "\n",
    "selected_features = df[['Prevarence_G_W','Urban_G_W', 'Rural_G_W', 'Low_Income_G_W', 'Middle_income_G_W', 'High_Income_G_W', 'Oppose_Cont_G_W','Oppose_Cont_B_M','Upper2ndary_Educ_Female','Upper2ndary_Educ_Male']]\n",
    "selected_features.head()"
   ]
  },
  {
   "cell_type": "code",
   "execution_count": 4,
   "metadata": {},
   "outputs": [
    {
     "data": {
      "text/html": [
       "<div>\n",
       "<style scoped>\n",
       "    .dataframe tbody tr th:only-of-type {\n",
       "        vertical-align: middle;\n",
       "    }\n",
       "\n",
       "    .dataframe tbody tr th {\n",
       "        vertical-align: top;\n",
       "    }\n",
       "\n",
       "    .dataframe thead th {\n",
       "        text-align: right;\n",
       "    }\n",
       "</style>\n",
       "<table border=\"1\" class=\"dataframe\">\n",
       "  <thead>\n",
       "    <tr style=\"text-align: right;\">\n",
       "      <th></th>\n",
       "      <th>Prevarence_G_W</th>\n",
       "      <th>Urban_G_W</th>\n",
       "      <th>Rural_G_W</th>\n",
       "      <th>Low_Income_G_W</th>\n",
       "      <th>Middle_income_G_W</th>\n",
       "      <th>High_Income_G_W</th>\n",
       "      <th>Oppose_Cont_G_W</th>\n",
       "      <th>Oppose_Cont_B_M</th>\n",
       "      <th>Upper2ndary_Educ_Female</th>\n",
       "      <th>Upper2ndary_Educ_Male</th>\n",
       "    </tr>\n",
       "  </thead>\n",
       "  <tbody>\n",
       "    <tr>\n",
       "      <th>0</th>\n",
       "      <td>9.20</td>\n",
       "      <td>5.20</td>\n",
       "      <td>13.48</td>\n",
       "      <td>16.20</td>\n",
       "      <td>10.3</td>\n",
       "      <td>2.30</td>\n",
       "      <td>86.30</td>\n",
       "      <td>88.8</td>\n",
       "      <td>13.00000</td>\n",
       "      <td>25.00000</td>\n",
       "    </tr>\n",
       "    <tr>\n",
       "      <th>2</th>\n",
       "      <td>1.40</td>\n",
       "      <td>0.90</td>\n",
       "      <td>2.10</td>\n",
       "      <td>1.30</td>\n",
       "      <td>1.0</td>\n",
       "      <td>0.70</td>\n",
       "      <td>84.10</td>\n",
       "      <td>84.6</td>\n",
       "      <td>11.47701</td>\n",
       "      <td>25.39947</td>\n",
       "    </tr>\n",
       "    <tr>\n",
       "      <th>4</th>\n",
       "      <td>38.40</td>\n",
       "      <td>40.10</td>\n",
       "      <td>37.90</td>\n",
       "      <td>46.10</td>\n",
       "      <td>37.0</td>\n",
       "      <td>37.30</td>\n",
       "      <td>45.10</td>\n",
       "      <td>48.6</td>\n",
       "      <td>10.00000</td>\n",
       "      <td>18.00000</td>\n",
       "    </tr>\n",
       "    <tr>\n",
       "      <th>5</th>\n",
       "      <td>36.70</td>\n",
       "      <td>30.80</td>\n",
       "      <td>43.80</td>\n",
       "      <td>50.00</td>\n",
       "      <td>43.3</td>\n",
       "      <td>20.00</td>\n",
       "      <td>79.40</td>\n",
       "      <td>82.1</td>\n",
       "      <td>6.94469</td>\n",
       "      <td>15.25335</td>\n",
       "    </tr>\n",
       "    <tr>\n",
       "      <th>7</th>\n",
       "      <td>87.20</td>\n",
       "      <td>77.40</td>\n",
       "      <td>92.60</td>\n",
       "      <td>94.40</td>\n",
       "      <td>92.2</td>\n",
       "      <td>69.80</td>\n",
       "      <td>37.45</td>\n",
       "      <td>27.9</td>\n",
       "      <td>81.00000</td>\n",
       "      <td>79.00000</td>\n",
       "    </tr>\n",
       "    <tr>\n",
       "      <th>9</th>\n",
       "      <td>65.20</td>\n",
       "      <td>53.90</td>\n",
       "      <td>68.40</td>\n",
       "      <td>65.00</td>\n",
       "      <td>69.0</td>\n",
       "      <td>57.30</td>\n",
       "      <td>79.30</td>\n",
       "      <td>86.7</td>\n",
       "      <td>5.65992</td>\n",
       "      <td>12.68877</td>\n",
       "    </tr>\n",
       "    <tr>\n",
       "      <th>12</th>\n",
       "      <td>94.50</td>\n",
       "      <td>94.80</td>\n",
       "      <td>94.30</td>\n",
       "      <td>94.60</td>\n",
       "      <td>93.3</td>\n",
       "      <td>94.98</td>\n",
       "      <td>26.20</td>\n",
       "      <td>32.6</td>\n",
       "      <td>25.00000</td>\n",
       "      <td>43.00000</td>\n",
       "    </tr>\n",
       "    <tr>\n",
       "      <th>15</th>\n",
       "      <td>21.00</td>\n",
       "      <td>13.80</td>\n",
       "      <td>25.90</td>\n",
       "      <td>39.80</td>\n",
       "      <td>17.8</td>\n",
       "      <td>12.00</td>\n",
       "      <td>92.47</td>\n",
       "      <td>88.8</td>\n",
       "      <td>18.00121</td>\n",
       "      <td>25.71248</td>\n",
       "    </tr>\n",
       "    <tr>\n",
       "      <th>17</th>\n",
       "      <td>88.60</td>\n",
       "      <td>89.20</td>\n",
       "      <td>88.40</td>\n",
       "      <td>86.47</td>\n",
       "      <td>89.9</td>\n",
       "      <td>90.40</td>\n",
       "      <td>17.47</td>\n",
       "      <td>12.6</td>\n",
       "      <td>3.24330</td>\n",
       "      <td>8.22355</td>\n",
       "    </tr>\n",
       "    <tr>\n",
       "      <th>19</th>\n",
       "      <td>66.60</td>\n",
       "      <td>55.20</td>\n",
       "      <td>79.00</td>\n",
       "      <td>91.80</td>\n",
       "      <td>70.1</td>\n",
       "      <td>36.60</td>\n",
       "      <td>49.50</td>\n",
       "      <td>18.7</td>\n",
       "      <td>34.00000</td>\n",
       "      <td>42.00000</td>\n",
       "    </tr>\n",
       "    <tr>\n",
       "      <th>20</th>\n",
       "      <td>2.00</td>\n",
       "      <td>1.20</td>\n",
       "      <td>2.10</td>\n",
       "      <td>1.70</td>\n",
       "      <td>2.4</td>\n",
       "      <td>1.00</td>\n",
       "      <td>82.40</td>\n",
       "      <td>90.6</td>\n",
       "      <td>1.98776</td>\n",
       "      <td>4.99652</td>\n",
       "    </tr>\n",
       "    <tr>\n",
       "      <th>21</th>\n",
       "      <td>19.48</td>\n",
       "      <td>24.20</td>\n",
       "      <td>15.60</td>\n",
       "      <td>16.40</td>\n",
       "      <td>20.0</td>\n",
       "      <td>20.00</td>\n",
       "      <td>67.40</td>\n",
       "      <td>62.1</td>\n",
       "      <td>72.00000</td>\n",
       "      <td>78.00000</td>\n",
       "    </tr>\n",
       "    <tr>\n",
       "      <th>22</th>\n",
       "      <td>24.00</td>\n",
       "      <td>19.80</td>\n",
       "      <td>28.20</td>\n",
       "      <td>40.80</td>\n",
       "      <td>24.9</td>\n",
       "      <td>13.70</td>\n",
       "      <td>80.90</td>\n",
       "      <td>78.8</td>\n",
       "      <td>5.00873</td>\n",
       "      <td>17.26285</td>\n",
       "    </tr>\n",
       "    <tr>\n",
       "      <th>25</th>\n",
       "      <td>86.60</td>\n",
       "      <td>85.47</td>\n",
       "      <td>87.20</td>\n",
       "      <td>88.00</td>\n",
       "      <td>80.7</td>\n",
       "      <td>91.60</td>\n",
       "      <td>52.80</td>\n",
       "      <td>64.0</td>\n",
       "      <td>43.00000</td>\n",
       "      <td>45.00000</td>\n",
       "    </tr>\n",
       "    <tr>\n",
       "      <th>26</th>\n",
       "      <td>3.10</td>\n",
       "      <td>2.50</td>\n",
       "      <td>3.60</td>\n",
       "      <td>4.20</td>\n",
       "      <td>2.6</td>\n",
       "      <td>1.90</td>\n",
       "      <td>94.50</td>\n",
       "      <td>95.6</td>\n",
       "      <td>3.03632</td>\n",
       "      <td>17.39877</td>\n",
       "    </tr>\n",
       "    <tr>\n",
       "      <th>28</th>\n",
       "      <td>10.00</td>\n",
       "      <td>5.30</td>\n",
       "      <td>12.70</td>\n",
       "      <td>18.60</td>\n",
       "      <td>11.7</td>\n",
       "      <td>4.40</td>\n",
       "      <td>95.00</td>\n",
       "      <td>88.9</td>\n",
       "      <td>2.28588</td>\n",
       "      <td>4.62521</td>\n",
       "    </tr>\n",
       "  </tbody>\n",
       "</table>\n",
       "</div>"
      ],
      "text/plain": [
       "    Prevarence_G_W  Urban_G_W  Rural_G_W  Low_Income_G_W  Middle_income_G_W  \\\n",
       "0             9.20       5.20      13.48           16.20               10.3   \n",
       "2             1.40       0.90       2.10            1.30                1.0   \n",
       "4            38.40      40.10      37.90           46.10               37.0   \n",
       "5            36.70      30.80      43.80           50.00               43.3   \n",
       "7            87.20      77.40      92.60           94.40               92.2   \n",
       "9            65.20      53.90      68.40           65.00               69.0   \n",
       "12           94.50      94.80      94.30           94.60               93.3   \n",
       "15           21.00      13.80      25.90           39.80               17.8   \n",
       "17           88.60      89.20      88.40           86.47               89.9   \n",
       "19           66.60      55.20      79.00           91.80               70.1   \n",
       "20            2.00       1.20       2.10            1.70                2.4   \n",
       "21           19.48      24.20      15.60           16.40               20.0   \n",
       "22           24.00      19.80      28.20           40.80               24.9   \n",
       "25           86.60      85.47      87.20           88.00               80.7   \n",
       "26            3.10       2.50       3.60            4.20                2.6   \n",
       "28           10.00       5.30      12.70           18.60               11.7   \n",
       "\n",
       "    High_Income_G_W  Oppose_Cont_G_W  Oppose_Cont_B_M  \\\n",
       "0              2.30            86.30             88.8   \n",
       "2              0.70            84.10             84.6   \n",
       "4             37.30            45.10             48.6   \n",
       "5             20.00            79.40             82.1   \n",
       "7             69.80            37.45             27.9   \n",
       "9             57.30            79.30             86.7   \n",
       "12            94.98            26.20             32.6   \n",
       "15            12.00            92.47             88.8   \n",
       "17            90.40            17.47             12.6   \n",
       "19            36.60            49.50             18.7   \n",
       "20             1.00            82.40             90.6   \n",
       "21            20.00            67.40             62.1   \n",
       "22            13.70            80.90             78.8   \n",
       "25            91.60            52.80             64.0   \n",
       "26             1.90            94.50             95.6   \n",
       "28             4.40            95.00             88.9   \n",
       "\n",
       "    Upper2ndary_Educ_Female  Upper2ndary_Educ_Male  \n",
       "0                  13.00000               25.00000  \n",
       "2                  11.47701               25.39947  \n",
       "4                  10.00000               18.00000  \n",
       "5                   6.94469               15.25335  \n",
       "7                  81.00000               79.00000  \n",
       "9                   5.65992               12.68877  \n",
       "12                 25.00000               43.00000  \n",
       "15                 18.00121               25.71248  \n",
       "17                  3.24330                8.22355  \n",
       "19                 34.00000               42.00000  \n",
       "20                  1.98776                4.99652  \n",
       "21                 72.00000               78.00000  \n",
       "22                  5.00873               17.26285  \n",
       "25                 43.00000               45.00000  \n",
       "26                  3.03632               17.39877  \n",
       "28                  2.28588                4.62521  "
      ]
     },
     "execution_count": 4,
     "metadata": {},
     "output_type": "execute_result"
    }
   ],
   "source": [
    "# Drop the null rows\n",
    "selected_features1 = selected_features .dropna()\n",
    "selected_features1"
   ]
  },
  {
   "cell_type": "code",
   "execution_count": 8,
   "metadata": {},
   "outputs": [
    {
     "data": {
      "text/plain": [
       "Text(0, 0.5, 'FGM Prevarence%')"
      ]
     },
     "execution_count": 8,
     "metadata": {},
     "output_type": "execute_result"
    },
    {
     "data": {
      "image/png": "[encoded data removed]",
      "text/plain": [
       "<Figure size 432x288 with 1 Axes>"
      ]
     },
     "metadata": {},
     "output_type": "display_data"
    }
   ],
   "source": [
    "x_axis=selected_features1.Urban_G_W\n",
    "y_axis=selected_features1.Prevarence_G_W\n",
    "\n",
    "plt.plot(x_axis, y_axis, 'o', color='blue');\n",
    "plt.title(\"FGM_prevalence vs Urban_resident\")\n",
    "plt.xlabel(\"Urban_resident%\")\n",
    "plt.ylabel(\"FGM Prevarence%\")"
   ]
  },
  {
   "cell_type": "code",
   "execution_count": 9,
   "metadata": {},
   "outputs": [
    {
     "data": {
      "text/plain": [
       "Text(0, 0.5, 'FGM Prevarence%')"
      ]
     },
     "execution_count": 9,
     "metadata": {},
     "output_type": "execute_result"
    },
    {
     "data": {
      "image/png": "[encoded data removed]",
      "text/plain": [
       "<Figure size 432x288 with 1 Axes>"
      ]
     },
     "metadata": {},
     "output_type": "display_data"
    }
   ],
   "source": [
    "x_axis=selected_features1.High_Income_G_W\n",
    "y_axis=selected_features1.Prevarence_G_W\n",
    "\n",
    "plt.plot(x_axis, y_axis, 'o', color='blue');\n",
    "plt.title(\"FGM_prevalence vs High_Income\")\n",
    "plt.xlabel(\"High_Income%\")\n",
    "plt.ylabel(\"FGM Prevarence%\")"
   ]
  },
  {
   "cell_type": "code",
   "execution_count": 10,
   "metadata": {},
   "outputs": [
    {
     "data": {
      "text/plain": [
       "Text(0, 0.5, 'FGM Prevarence%')"
      ]
     },
     "execution_count": 10,
     "metadata": {},
     "output_type": "execute_result"
    },
    {
     "data": {
      "image/png": "[encoded data removed]",
      "text/plain": [
       "<Figure size 432x288 with 1 Axes>"
      ]
     },
     "metadata": {},
     "output_type": "display_data"
    }
   ],
   "source": [
    "x_axis=selected_features1.Oppose_Cont_G_W\n",
    "y_axis=selected_features1.Prevarence_G_W\n",
    "\n",
    "plt.plot(x_axis, y_axis, 'o', color='blue');\n",
    "plt.title(\"FGM_prevalence vs Women_Oppose_Cont\")\n",
    "plt.xlabel(\"Women_Oppose_Cont%\")\n",
    "plt.ylabel(\"FGM Prevarence%\")"
   ]
  },
  {
   "cell_type": "code",
   "execution_count": 11,
   "metadata": {},
   "outputs": [
    {
     "data": {
      "text/plain": [
       "Text(0, 0.5, 'FGM Prevarence%')"
      ]
     },
     "execution_count": 11,
     "metadata": {},
     "output_type": "execute_result"
    },
    {
     "data": {
      "image/png": "[encoded data removed]",
      "text/plain": [
       "<Figure size 432x288 with 1 Axes>"
      ]
     },
     "metadata": {},
     "output_type": "display_data"
    }
   ],
   "source": [
    "x_axis=selected_features1.Upper2ndary_Educ_Female\n",
    "y_axis=selected_features1.Prevarence_G_W\n",
    "\n",
    "plt.plot(x_axis, y_axis, 'o', color='blue');\n",
    "plt.title(\"FGM_prevalence vs Upper2ndary_Educ_Female\")\n",
    "plt.xlabel(\"Upper2ndary_Educ_Female%\")\n",
    "plt.ylabel(\"FGM Prevarence%\")"
   ]
  },
  {
   "cell_type": "code",
   "execution_count": 65,
   "metadata": {},
   "outputs": [
    {
     "data": {
      "text/plain": [
       "Text(0, 0.5, 'Urban_G_W%')"
      ]
     },
     "execution_count": 65,
     "metadata": {},
     "output_type": "execute_result"
    },
    {
     "data": {
      "image/png": "[encoded data removed]",
      "text/plain": [
       "<Figure size 432x288 with 1 Axes>"
      ]
     },
     "metadata": {},
     "output_type": "display_data"
    }
   ],
   "source": [
    "x_axis=selected_features1.Oppose_Cont_G_W\n",
    "y_axis=selected_features1.Urban_G_W\n",
    "\n",
    "plt.plot(x_axis, y_axis, 'o', color='blue');\n",
    "plt.title(\"Urban_G_W vs Oppose_Cont_G_W\")\n",
    "plt.xlabel(\"Oppose_Cont_G_W%\")\n",
    "plt.ylabel(\"Urban_G_W%\")"
   ]
  },
  {
   "cell_type": "code",
   "execution_count": 75,
   "metadata": {},
   "outputs": [
    {
     "data": {
      "text/plain": [
       "Text(0, 0.5, 'Oppose_Cont_B_M%')"
      ]
     },
     "execution_count": 75,
     "metadata": {},
     "output_type": "execute_result"
    },
    {
     "data": {
      "image/png": "[encoded data removed]",
      "text/plain": [
       "<Figure size 432x288 with 1 Axes>"
      ]
     },
     "metadata": {},
     "output_type": "display_data"
    }
   ],
   "source": [
    "x_axis=selected_features1.Oppose_Cont_G_W\n",
    "y_axis=selected_features1.Oppose_Cont_B_M\n",
    "\n",
    "plt.plot(x_axis, y_axis, 'o', color='blue');\n",
    "plt.title(\"Oppose_Cont_B_M'vs Oppose_Cont_G_W\")\n",
    "plt.xlabel(\"Oppose_Cont_G_W%\")\n",
    "plt.ylabel(\"Oppose_Cont_B_M%\")"
   ]
  },
  {
   "cell_type": "code",
   "execution_count": 92,
   "metadata": {},
   "outputs": [
    {
     "data": {
      "text/plain": [
       "Text(0, 0.5, 'Upper2ndary_Educ_Female%')"
      ]
     },
     "execution_count": 92,
     "metadata": {},
     "output_type": "execute_result"
    },
    {
     "data": {
      "image/png": "[encoded data removed]",
      "text/plain": [
       "<Figure size 432x288 with 1 Axes>"
      ]
     },
     "metadata": {},
     "output_type": "display_data"
    }
   ],
   "source": [
    "x_axis=selected_features1.Oppose_Cont_G_W\n",
    "y_axis=selected_features1.Upper2ndary_Educ_Female\n",
    "\n",
    "plt.plot(x_axis, y_axis, 'o', color='blue');\n",
    "plt.title(\"Upper2ndary_Educ_Female vs Oppose_Cont_G_W\")\n",
    "plt.xlabel(\"Oppose_Cont_G_W%\")\n",
    "plt.ylabel(\"Upper2ndary_Educ_Female%\")"
   ]
  },
  {
   "cell_type": "code",
   "execution_count": 76,
   "metadata": {},
   "outputs": [
    {
     "name": "stdout",
     "output_type": "stream",
     "text": [
      "(16, 7) (16, 1)\n"
     ]
    }
   ],
   "source": [
    "X=selected_features1[['Rural_G_W', 'Low_Income_G_W', 'Middle_income_G_W', 'High_Income_G_W', 'Oppose_Cont_G_W','Upper2ndary_Educ_Female','Upper2ndary_Educ_Male']]\n",
    "y=selected_features1['Prevarence_G_W'].values.reshape(-1,1)\n",
    "print(X.shape, y.shape)"
   ]
  },
  {
   "cell_type": "code",
   "execution_count": 77,
   "metadata": {},
   "outputs": [],
   "source": [
    "# Use train_test_split to create training and testing data\n",
    "\n",
    "from sklearn.model_selection import train_test_split\n",
    "\n",
    "X_train, X_test, y_train, y_test = train_test_split(X, y, random_state=42)"
   ]
  },
  {
   "cell_type": "code",
   "execution_count": 78,
   "metadata": {},
   "outputs": [],
   "source": [
    "# Create the model using LinearRegression\n",
    "\n",
    "from sklearn.linear_model import LinearRegression\n",
    "model = LinearRegression()"
   ]
  },
  {
   "cell_type": "code",
   "execution_count": 79,
   "metadata": {},
   "outputs": [],
   "source": [
    " # Fit the model to the training data and calculate the scores for the training and testing data\n",
    "\n",
    "### BEGIN SOLUTION\n",
    "model.fit(X_train, y_train)\n",
    "training_score = model.score(X_train, y_train)\n",
    "testing_score = model.score(X_test, y_test)"
   ]
  },
  {
   "cell_type": "code",
   "execution_count": 82,
   "metadata": {},
   "outputs": [
    {
     "name": "stdout",
     "output_type": "stream",
     "text": [
      "Training Score: 0.9999952751331032\n",
      "Testing Score: 0.9984735751331494\n",
      "coefficient : Rural_G_W, Low_Income_G_W, Middle_income_G_W, High_Income_G_W, Oppose_Cont_G_W,Upper2ndary_Educ_Female,Upper2ndary_Educ_Male: [[ 0.52588446  0.02761097  0.15206393  0.2606233  -0.03426358 -0.01024372\n",
      "   0.03606357]]\n"
     ]
    }
   ],
   "source": [
    "print(f\"Training Score: {training_score}\")\n",
    "print(f\"Testing Score: {testing_score}\")\n",
    "print(f\"coefficient : Rural_G_W, Low_Income_G_W, Middle_income_G_W, High_Income_G_W, Oppose_Cont_G_W,Upper2ndary_Educ_Female,Upper2ndary_Educ_Male: {model.coef_}\")"
   ]
  },
  {
   "cell_type": "code",
   "execution_count": 83,
   "metadata": {},
   "outputs": [
    {
     "name": "stdout",
     "output_type": "stream",
     "text": [
      "(16, 2) (16, 1)\n"
     ]
    }
   ],
   "source": [
    "X1=selected_features1[['Oppose_Cont_G_W','Upper2ndary_Educ_Female']]\n",
    "y1=selected_features1['Prevarence_G_W'].values.reshape(-1,1)\n",
    "print(X1.shape, y1.shape)"
   ]
  },
  {
   "cell_type": "code",
   "execution_count": 84,
   "metadata": {},
   "outputs": [],
   "source": [
    "# Use train_test_split to create training and testing data\n",
    "\n",
    "from sklearn.model_selection import train_test_split\n",
    "\n",
    "X1_train, X1_test, y1_train, y1_test = train_test_split(X1, y1, random_state=42)"
   ]
  },
  {
   "cell_type": "code",
   "execution_count": 85,
   "metadata": {},
   "outputs": [],
   "source": [
    " # Fit the model to the training data and calculate the scores for the training and testing data\n",
    "\n",
    "### BEGIN SOLUTION\n",
    "model.fit(X1_train, y1_train)\n",
    "training_score = model.score(X1_train, y1_train)\n",
    "testing_score = model.score(X1_test, y1_test)"
   ]
  },
  {
   "cell_type": "code",
   "execution_count": 86,
   "metadata": {},
   "outputs": [
    {
     "name": "stdout",
     "output_type": "stream",
     "text": [
      "Training Score: 0.781618207058674\n",
      "Testing Score: 0.24732918626747413\n",
      "coefficient : Urban_G_W, Oppose_Cont_G_W, Oppose_Cont_B_M,Upper2ndary_Educ_Female: [[-1.11406009  0.14670138]]\n"
     ]
    }
   ],
   "source": [
    "print(f\"Training Score: {training_score}\")\n",
    "print(f\"Testing Score: {testing_score}\")\n",
    "print(f\"coefficient : Oppose_Cont_G_W, Upper2ndary_Educ_Female: {model.coef_}\")"
   ]
  },
  {
   "cell_type": "code",
   "execution_count": 87,
   "metadata": {},
   "outputs": [
    {
     "name": "stdout",
     "output_type": "stream",
     "text": [
      "(16, 1) (16, 1)\n"
     ]
    }
   ],
   "source": [
    "X2=selected_features1[['Upper2ndary_Educ_Female']]\n",
    "y2=selected_features1['Prevarence_G_W'].values.reshape(-1,1)\n",
    "print(X2.shape, y2.shape)"
   ]
  },
  {
   "cell_type": "code",
   "execution_count": 88,
   "metadata": {},
   "outputs": [],
   "source": [
    "# Use train_test_split to create training and testing data\n",
    "\n",
    "from sklearn.model_selection import train_test_split\n",
    "\n",
    "X2_train, X2_test, y2_train, y2_test = train_test_split(X2, y2, random_state=42)"
   ]
  },
  {
   "cell_type": "code",
   "execution_count": 89,
   "metadata": {},
   "outputs": [],
   "source": [
    " # Fit the model to the training data and calculate the scores for the training and testing data\n",
    "\n",
    "### BEGIN SOLUTION\n",
    "model.fit(X2_train, y2_train)\n",
    "training_score = model.score(X2_train, y2_train)\n",
    "testing_score = model.score(X2_test, y2_test)"
   ]
  },
  {
   "cell_type": "code",
   "execution_count": 91,
   "metadata": {},
   "outputs": [
    {
     "name": "stdout",
     "output_type": "stream",
     "text": [
      "Training Score: 0.13157207693215867\n",
      "Testing Score: -0.652074807946962\n",
      "coefficient : Upper2ndary_Educ_Female: [[0.45625601]]\n"
     ]
    }
   ],
   "source": [
    "print(f\"Training Score: {training_score}\")\n",
    "print(f\"Testing Score: {testing_score}\")\n",
    "print(f\"coefficient : Upper2ndary_Educ_Female: {model.coef_}\")"
   ]
  },
  {
   "cell_type": "code",
   "execution_count": null,
   "metadata": {},
   "outputs": [],
   "source": [
    "'Urban_G_W', 'Rural_G_W', 'Low_Income_G_W', 'Middle_income_G_W', 'High_Income_G_W', 'Oppose_Cont_G_W','Oppose_Cont_B_M','Upper2ndary_Educ_Female','Upper2ndary_Educ_Male'\n",
    "\n",
    "'Rural_G_W', 'Low_Income_G_W', 'Middle_income_G_W', 'High_Income_G_W', 'Oppose_Cont_G_W','Upper2ndary_Educ_Female'"
   ]
  }
 ],
 "metadata": {
  "kernelspec": {
   "display_name": "Python [conda env:PythonData] *",
   "language": "python",
   "name": "conda-env-PythonData-py"
  },
  "language_info": {
   "codemirror_mode": {
    "name": "ipython",
    "version": 3
   },
   "file_extension": ".py",
   "mimetype": "text/x-python",
   "name": "python",
   "nbconvert_exporter": "python",
   "pygments_lexer": "ipython3",
   "version": "3.7.6"
  }
 },
 "nbformat": 4,
 "nbformat_minor": 4
}
